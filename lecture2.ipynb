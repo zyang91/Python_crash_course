{
 "cells": [
  {
   "cell_type": "markdown",
   "id": "df82bed0",
   "metadata": {},
   "source": [
    "# My first Jupypter notebook\n",
    "## Zhanchao Yang\n",
    "### zyang91@binghamton.edu\n",
    "\n",
    "This is how you can write simple documentations using the *Markdown* mode.\n",
    "This is a **stronger emphasis** in Markdown.\n",
    "\n",
    " - item 1\n",
    " - item 2\n",
    " - item 3\n"
   ]
  },
  {
   "cell_type": "markdown",
   "id": "17b60b1a",
   "metadata": {},
   "source": [
    "# Zhanchao Yang"
   ]
  },
  {
   "cell_type": "code",
   "execution_count": null,
   "id": "70c4d77c",
   "metadata": {},
   "outputs": [],
   "source": []
  }
 ],
 "metadata": {
  "kernelspec": {
   "display_name": "Python 3 (ipykernel)",
   "language": "python",
   "name": "python3"
  },
  "language_info": {
   "codemirror_mode": {
    "name": "ipython",
    "version": 3
   },
   "file_extension": ".py",
   "mimetype": "text/x-python",
   "name": "python",
   "nbconvert_exporter": "python",
   "pygments_lexer": "ipython3",
   "version": "3.10.6"
  }
 },
 "nbformat": 4,
 "nbformat_minor": 5
}
